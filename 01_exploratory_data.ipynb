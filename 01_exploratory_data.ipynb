{
 "cells": [
  {
   "cell_type": "code",
   "execution_count": null,
   "id": "21644518-ac4f-4bb0-a0ff-dfd674427957",
   "metadata": {},
   "outputs": [],
   "source": [
    "#from pandas_profiling import ProfileReport\n",
    "from ydata_profiling import ProfileRepo\n",
    "import pandas as pd\n",
    "import numpy as np\n",
    "import matplotlib.pyplot as plt\n",
    "import seaborn as sns"
   ]
  },
  {
   "cell_type": "markdown",
   "id": "5714a07d-90bf-4994-9792-141605078485",
   "metadata": {},
   "source": [
    "1. # Provider Info 2024"
   ]
  },
  {
   "cell_type": "code",
   "execution_count": null,
   "id": "2a181f34-9919-4168-a6db-ac208f212742",
   "metadata": {},
   "outputs": [],
   "source": [
    "master_df = analyze_data('../support_files/NH_ProviderInfo_Oct2024.csv', show_visuals=True, save_summary=True)\n",
    "profile = ProfileReport(master_df)\n",
    "profile.to_file(\"master_report.html\")"
   ]
  },
  {
   "cell_type": "markdown",
   "id": "1f8fdfe6-0884-404d-83d1-e262dc2f24b8",
   "metadata": {},
   "source": [
    "2. ## Health Citations October 2024\n"
   ]
  },
  {
   "cell_type": "code",
   "execution_count": null,
   "id": "825341ee-4a38-4618-9fc3-6ef3cda31879",
   "metadata": {},
   "outputs": [],
   "source": [
    "master_df = analyze_data('../support_files/NH_HealthCitations_Oct2024.csv', show_visuals=True, save_summary=True)\n",
    "profile = ProfileReport(master_df)\n",
    "profile.to_file(\"master_report.html\")"
   ]
  },
  {
   "cell_type": "code",
   "execution_count": null,
   "id": "1be2e224-dd68-473a-bf74-332dcc20c901",
   "metadata": {},
   "outputs": [],
   "source": []
  },
  {
   "cell_type": "markdown",
   "id": "d69449f4-63a6-473e-ba95-87e4a6d37191",
   "metadata": {},
   "source": [
    "3. ## Citations Description October 2024"
   ]
  },
  {
   "cell_type": "code",
   "execution_count": null,
   "id": "6a41c8e3-7fe6-49bc-a89a-a4ef8e1e9cbe",
   "metadata": {},
   "outputs": [],
   "source": [
    "master_df = analyze_data('../support_files/NH_CitationDescriptions_Oct2024.csv', show_visuals=True, save_summary=True)\n",
    "profile = ProfileReport(master_df)\n",
    "profile.to_file(\"master_report.html\")"
   ]
  },
  {
   "cell_type": "code",
   "execution_count": null,
   "id": "be798df1-63b3-40a9-a3e3-eb18cd87c1a7",
   "metadata": {},
   "outputs": [],
   "source": []
  },
  {
   "cell_type": "markdown",
   "id": "484668ca-13fd-4331-9001-cf5fc668d66a",
   "metadata": {},
   "source": [
    "4. ## Survey Summary October 2024"
   ]
  },
  {
   "cell_type": "code",
   "execution_count": null,
   "id": "0cedc991-bc0d-4dbc-a2d4-5b6c69f58e40",
   "metadata": {},
   "outputs": [],
   "source": [
    "master_df = analyze_data('../support_files/NH_SurveySummary_Oct2024.csv', show_visuals=True, save_summary=True)\n",
    "profile = ProfileReport(master_df)\n",
    "profile.to_file(\"master_report.html\")"
   ]
  },
  {
   "cell_type": "code",
   "execution_count": null,
   "id": "ccde6dd4-7dc9-41e7-b403-21c7e0768eea",
   "metadata": {},
   "outputs": [],
   "source": []
  },
  {
   "cell_type": "markdown",
   "id": "83938584-f891-4359-a8ba-d6d939c01ec8",
   "metadata": {},
   "source": [
    "5. ## Penalties October 2024"
   ]
  },
  {
   "cell_type": "code",
   "execution_count": null,
   "id": "65865233-a9ca-4ea1-b8e4-2b55ce5f12af",
   "metadata": {},
   "outputs": [],
   "source": [
    "master_df = analyze_data('../support_files/NH_Penalties_Oct2024.csv', show_visuals=True, save_summary=True)\n",
    "profile = ProfileReport(master_df)\n",
    "profile.to_file(\"master_report.html\")"
   ]
  },
  {
   "cell_type": "code",
   "execution_count": null,
   "id": "c0629128-aec3-4c87-a0db-56bb83ade11e",
   "metadata": {},
   "outputs": [],
   "source": []
  },
  {
   "cell_type": "markdown",
   "id": "4bf596db-1140-4459-81e3-970c3078a9bb",
   "metadata": {},
   "source": [
    "6. # Quality Measures 2024"
   ]
  },
  {
   "cell_type": "code",
   "execution_count": null,
   "id": "2d755d0c-d44d-450b-a5c7-aa9538fa13fa",
   "metadata": {},
   "outputs": [],
   "source": [
    "master_df = analyze_data('../support_files/NH_QualityMsr_MDS_Oct2024.csv', show_visuals=True, save_summary=True)"
   ]
  },
  {
   "cell_type": "code",
   "execution_count": null,
   "id": "a1a56e96-8062-48f0-9486-52b611100546",
   "metadata": {},
   "outputs": [],
   "source": []
  },
  {
   "cell_type": "code",
   "execution_count": null,
   "id": "16ef15a2-4e57-46b8-ba28-89017ec32ca4",
   "metadata": {},
   "outputs": [],
   "source": []
  },
  {
   "cell_type": "code",
   "execution_count": null,
   "id": "ea172830-d8a0-44f4-be5c-c192c74451a4",
   "metadata": {},
   "outputs": [],
   "source": []
  },
  {
   "cell_type": "code",
   "execution_count": null,
   "id": "85f71050-cf7d-4b8d-8893-5fc4a16fcab9",
   "metadata": {},
   "outputs": [],
   "source": []
  },
  {
   "cell_type": "code",
   "execution_count": null,
   "id": "9edb08f2-f685-43f8-867d-3f47d1558ff4",
   "metadata": {},
   "outputs": [],
   "source": []
  },
  {
   "cell_type": "code",
   "execution_count": null,
   "id": "32f8d897-70d1-4203-a584-7d10e1be41e3",
   "metadata": {},
   "outputs": [],
   "source": []
  },
  {
   "cell_type": "code",
   "execution_count": null,
   "id": "1fae6700-a71f-41ae-9478-04bcf8b4bba3",
   "metadata": {},
   "outputs": [],
   "source": []
  },
  {
   "cell_type": "code",
   "execution_count": null,
   "id": "9a0cd3ef-ec18-4782-af02-69444c0ed8e8",
   "metadata": {},
   "outputs": [],
   "source": []
  },
  {
   "cell_type": "code",
   "execution_count": null,
   "id": "2895b27c-4f83-4455-a0d9-e4d969300afe",
   "metadata": {},
   "outputs": [],
   "source": []
  },
  {
   "cell_type": "code",
   "execution_count": null,
   "id": "970d923b-ade8-40fc-bac4-9e2be315d663",
   "metadata": {},
   "outputs": [],
   "source": []
  },
  {
   "cell_type": "code",
   "execution_count": null,
   "id": "1e0e5c36-c6f9-41e3-83a5-e8dade1a29a2",
   "metadata": {},
   "outputs": [],
   "source": []
  },
  {
   "cell_type": "code",
   "execution_count": null,
   "id": "c5b7c339-e70e-4ca9-aae6-dba06925a8e5",
   "metadata": {},
   "outputs": [],
   "source": []
  },
  {
   "cell_type": "code",
   "execution_count": null,
   "id": "6866199b-57b0-4b3e-a58e-caed6d96bfb2",
   "metadata": {},
   "outputs": [],
   "source": []
  },
  {
   "cell_type": "code",
   "execution_count": null,
   "id": "e4292e7e-d8cb-4917-b92b-bfd751275787",
   "metadata": {},
   "outputs": [],
   "source": []
  }
 ],
 "metadata": {
  "kernelspec": {
   "display_name": "Python (de_env)",
   "language": "python",
   "name": "de_env"
  },
  "language_info": {
   "codemirror_mode": {
    "name": "ipython",
    "version": 3
   },
   "file_extension": ".py",
   "mimetype": "text/x-python",
   "name": "python",
   "nbconvert_exporter": "python",
   "pygments_lexer": "ipython3",
   "version": "3.11.10"
  }
 },
 "nbformat": 4,
 "nbformat_minor": 5
}
