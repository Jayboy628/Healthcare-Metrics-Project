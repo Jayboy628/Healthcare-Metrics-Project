{
 "cells": [
  {
   "cell_type": "markdown",
   "id": "c922126a-84a0-4d25-977c-adac220e93fe",
   "metadata": {},
   "source": [
    "# Glue Connect to snowflake"
   ]
  },
  {
   "cell_type": "markdown",
   "id": "1712426f-b8e5-43f0-bad0-8913598d0879",
   "metadata": {},
   "source": [
    "1. **Add Snowflake JARs to Glue**:\n",
    "- Download: snowflake-jdbc-3.13.30.jar and spark-snowflake_2.12-2.11.3-spark_3.3.jar\n",
    "- Upload to S3: s3://your-bucket/jars/"
   ]
  },
  {
   "cell_type": "markdown",
   "id": "9c523f7b-dfca-4f1d-8d5b-335dadab8210",
   "metadata": {},
   "source": [
    "2. **Glue Job Setup**:\n",
    "```python\n",
    "from awsglue.context import GlueContext\n",
    "from pyspark.sql import SparkSession\n",
    "\n",
    "spark = SparkSession.builder \\\n",
    "    .config(\"spark.jars\", \"s3://your-bucket/jars/spark-snowflake_2.12-2.11.3-spark_3.3.jar,s3://your-bucket/jars/snowflake-jdbc-3.13.30.jar\") \\\n",
    "    .getOrCreate()\n",
    "\n",
    "glueContext = GlueContext(spark.sparkContext)\n",
    "```"
   ]
  },
  {
   "cell_type": "markdown",
   "id": "70437866-9598-4076-9298-2755512db4d7",
   "metadata": {},
   "source": [
    "3. **Snowflake Connection Configuration**:\n",
    "```python\n",
    "sf_options = {\n",
    "    \"sfURL\": \"your-account.snowflakecomputing.com\",\n",
    "    \"sfUser\": \"glue_user\",\n",
    "    \"sfPassword\": \"your_password\",\n",
    "    \"sfDatabase\": \"NURSING_HOME\",\n",
    "    \"sfSchema\": \"PUBLIC\",\n",
    "    \"sfWarehouse\": \"GLUE_WH\"\n",
    "}\n",
    "```\n"
   ]
  },
  {
   "cell_type": "markdown",
   "id": "e0fe511e-69fb-40fc-a00a-014f6f4e6335",
   "metadata": {},
   "source": [
    "4. **Read/Write Example**:\n",
    "```python\n",
    "# Read from Snowflake\n",
    "df = spark.read.format(\"snowflake\") \\\n",
    "    .options(**sf_options) \\\n",
    "    .option(\"query\", \"SELECT * PROVIDERS\") \\\n",
    "    .load()\n",
    "\n",
    "# Write to Snowflake\n",
    "processed_data.write.format(\"snowflake\") \\\n",
    "    .options(**sf_options) \\\n",
    "    .option(\"dbtable\", \"STAFFING_REPORTS\") \\\n",
    "    .mode(\"overwrite\") \\\n",
    "    .save()\n",
    "```"
   ]
  },
  {
   "cell_type": "markdown",
   "id": "9b59e3c7-276c-4f4a-be78-f498cda6b683",
   "metadata": {},
   "source": [
    "# Key Considerations\n",
    "1. **IAM Integration**:\n",
    "\n",
    "- Prefer Snowflake Key Pair Authentication over passwords\n",
    "\n",
    "- Use AWS Secrets Manager for credentials\n",
    "```python\n",
    "secret = glueContext.get_secret(secretId=\"snowflake-creds\")\n",
    "sf_options[\"sfPassword\"] = secret[\"password\"]\n",
    "```"
   ]
  },
  {
   "cell_type": "markdown",
   "id": "e497b0c3-14f4-48f0-a88f-472e08572f00",
   "metadata": {},
   "source": [
    "2. **Performance Optimization**:\n",
    "```python\n",
    ".option(\"sfCompress\", \"on\") \\\n",
    ".option(\"parallelism\", \"8\") \\\n",
    ".option(\"autopushdown\", \"on\")\n",
    "```"
   ]
  },
  {
   "cell_type": "markdown",
   "id": "9a1509a2-fcfa-4d2c-94a3-98afe0ccd60b",
   "metadata": {},
   "source": [
    "3. **Error Handling**:\n",
    "```python\n",
    ".option(\"continue_on_error\", \"on\") \\\n",
    ".option(\"load_error_log\", \"@ERROR_LOG\")\n",
    "```"
   ]
  },
  {
   "cell_type": "markdown",
   "id": "a2cdf53e-5b3c-4e18-9c11-c44c831d42a3",
   "metadata": {},
   "source": [
    "4. Data Type Mappings:\n",
    "\n",
    "- Use explicit casts for Snowflake semi-structured data (VARIANT, ARRAY)\n",
    "- Handle TIMESTAMP_NTZ/TIMESTAMP_LTZ explicitly \n"
   ]
  },
  {
   "cell_type": "markdown",
   "id": "78748353-9c99-4224-8a79-628ee7e4bb4f",
   "metadata": {},
   "source": [
    "# Deployment Process"
   ]
  },
  {
   "cell_type": "markdown",
   "id": "9f9f2aba-a17e-452a-9c46-c1d29278e827",
   "metadata": {},
   "source": [
    "#### Cloudformation Steps:\n",
    "```python\n",
    "   cloudformation/\n",
    "    ├── 1-iam-roles-stack.json       # IAM roles/policies\n",
    "    ├── 2-s3-buckets-stack.json      # S3 bucket configurations\n",
    "    ├── 3-glue-snowflake-stack.json  # Glue resources + Snowflake integration\n",
    "    ├── 4-glue-workflow-stack.json\n",
    "    └── parameters/\n",
    "        ├── dev-params.json          # Environment-specific parameters\n",
    "        └── prod-params.json\n",
    "    ├── 5-sns-sqs-notification-stack.json  # notify using outlook.com\n",
    "    ├── 6-s3-template-notify.json  # policy for s3 notification sns\n",
    "        \n",
    "```"
   ]
  },
  {
   "cell_type": "markdown",
   "id": "d21cdc7f-ce0c-423d-88c1-6a98e0cf1a32",
   "metadata": {},
   "source": [
    "1. **Deploy IAM stack first**:\n",
    "```python\n",
    "   aws cloudformation deploy \\\n",
    "    --template-file 1-iam-roles-stack.json \\\n",
    "    --stack-name iam-stack \\\n",
    "    --parameter-overrides EnvironmentType=dev \\\n",
    "    --capabilities CAPABILITY_NAMED_IAM\n",
    "```"
   ]
  },
  {
   "cell_type": "markdown",
   "id": "5ca9744a-a760-400e-8f4a-cdceec9b79bd",
   "metadata": {},
   "source": [
    "2. **Deploy S3 stack**:\n",
    "```python\n",
    "aws cloudformation deploy \\\n",
    "    --template-file 2-s3-buckets-stack.json \\\n",
    "    --stack-name nursing-home-dev-s3 \\\n",
    "    --parameter-overrides EnvironmentType=dev\n",
    "```"
   ]
  },
  {
   "cell_type": "markdown",
   "id": "e5d7303e-6958-477f-8fac-ca058c95acaa",
   "metadata": {},
   "source": [
    "3. **Deployment Strategy**"
   ]
  },
  {
   "cell_type": "markdown",
   "id": "4052612d-0e44-441b-9852-fd600a392b8a",
   "metadata": {},
   "source": [
    "- **Upload Dependent Scripts**:\n",
    "   ```python\n",
    "      # Create local directory\n",
    "    mkdir -p health_citations_etl\n",
    "    \n",
    "    # Move script to directory\n",
    "    mv health_citations_etl.py health_citations_etl/\n",
    "    \n",
    "    # Now copy recursively\n",
    "    aws s3 cp health_citations_etl/ s3://nh-source-657082399901-dev/scripts/ --recursive\n",
    "   ```"
   ]
  },
  {
   "cell_type": "markdown",
   "id": "4c3dad22-8456-4dda-9952-28da28ae45b5",
   "metadata": {},
   "source": [
    "- **Verify Upload:**\n",
    " - aws s3 ls s3://nh-source-657082399901-dev/scripts/ --recursive"
   ]
  },
  {
   "cell_type": "markdown",
   "id": "e70c5027-40b6-4887-ba4c-0c527faaf5a3",
   "metadata": {},
   "source": [
    "4. **Deploy Glue stack**:\n",
    "```python\n",
    "aws cloudformation deploy \\\n",
    "    --template-file 3-glue-snowflake-stack.json \\\n",
    "    --stack-name nursing-home-dev-glue \\\n",
    "    --parameter-overrides \\\n",
    "        EnvironmentType=dev \\\n",
    "        SnowflakeSecretARN=arn:aws:secretsmanager:us-east-1:657082399901:secret:connection_parameters_snowflake_dev-Tc7c3a \\\n",
    "        SnowflakeAccount=xxxxxx1.us-east-1 \\\n",
    "    --capabilities CAPABILITY_NAMED_IAM\n",
    "```"
   ]
  },
  {
   "cell_type": "markdown",
   "id": "05f8de08-350d-4c4f-873b-00b11c2a09ee",
   "metadata": {},
   "source": [
    "- #### Make changes to the to `Policy` section: `Secret`\n",
    "    - **secret name**: connection_parameters_snowflake\n",
    "    - **secret arn**: arn:aws:secretsmanager:us-east-1:657082399901:secret:connection_parameters_snowflake-EqHWQS"
   ]
  },
  {
   "cell_type": "markdown",
   "id": "6e333472-56ff-4233-b25f-ff56c76fd1a8",
   "metadata": {},
   "source": [
    "5. **Load files from `Google Drive` to `S3` Bucket**\n",
    "\n",
    "```python\n",
    "python3 drive_to_s3_sync.py \n",
    "```"
   ]
  },
  {
   "cell_type": "markdown",
   "id": "9bf09362-2ebc-4bad-a14d-28914081160f",
   "metadata": {},
   "source": [
    "6. **Deploy Workflow Stack**:\n",
    "```python\n",
    "aws cloudformation deploy \\\n",
    "  --template-file 4-glue-workflow-stack.json \\\n",
    "  --stack-name nursing-home-dev-workflow \\\n",
    "  --parameter-overrides \\\n",
    "      EnvironmentType=dev \\\n",
    "      SourceBucket=nh-source-657082399901-dev \\\n",
    "  --capabilities CAPABILITY_NAMED_IAM\n",
    "```"
   ]
  },
  {
   "cell_type": "markdown",
   "id": "447bb4b6-882a-4d8b-9cd3-0484f58182df",
   "metadata": {},
   "source": [
    "- ***Describe the stack just change stack name***\n",
    " - aws cloudformation describe-stacks --stack-name glue-stack\n"
   ]
  },
  {
   "cell_type": "markdown",
   "id": "5b36e09d-7786-4232-8361-534e36a6cd96",
   "metadata": {},
   "source": [
    "7. **Confirm that secret is configure correctly**\n",
    "   \n",
    "   ```python\n",
    "   aws secretsmanager get-secret-value --secret-id connection_parameters_snowflake\n",
    "   ```"
   ]
  },
  {
   "cell_type": "markdown",
   "id": "9150bc8d-78a3-442e-8275-243a0cedfece",
   "metadata": {},
   "source": [
    "8. **Create the Database in AWS CLI**\n",
    "```python\n",
    "aws glue create-database --database-input '{\"Name\": \"nh_raw_dev\", \"Description\": \"Raw data for Nursing Home ETL\"}'\n",
    "\n",
    "```"
   ]
  },
  {
   "cell_type": "markdown",
   "id": "9f87c8a3-e916-483a-81d5-b9232fb05023",
   "metadata": {},
   "source": [
    "9. **Start Glue Crawler**\n",
    "```python\n",
    "aws glue start-crawler --name dev-raw-data-crawler\n",
    "```"
   ]
  },
  {
   "cell_type": "markdown",
   "id": "79ecbf4c-6721-4ced-9225-a8a828290b14",
   "metadata": {},
   "source": [
    "## Summary"
   ]
  },
  {
   "cell_type": "markdown",
   "id": "452b92b4-7b63-4d09-9970-fd08ac34782c",
   "metadata": {},
   "source": [
    "```python\n",
    "\n",
    "aws cloudformation deploy \\\n",
    "    --template-file 1-iam-roles-stack.json \\\n",
    "    --stack-name nursing-home-dev-iam \\\n",
    "    --parameter-overrides EnvironmentType=dev SnowflakeSecretARN=arn:aws:secretsmanager:us-east-1:657082399901:secret:connection_parameters_snowflake_dev \\\n",
    "    --capabilities CAPABILITY_NAMED_IAM\n",
    "\n",
    "aws cloudformation deploy \\\n",
    "    --template-file 2-s3-buckets-stack.json \\\n",
    "    --stack-name nursing-home-dev-s3 \\\n",
    "    --parameter-overrides EnvironmentType=dev\n",
    "\n",
    "aws cloudformation deploy \\\n",
    "    --template-file 3-glue-snowflake-stack.json \\\n",
    "    --stack-name nursing-home-dev-glue \\\n",
    "    --parameter-overrides \\\n",
    "        EnvironmentType=dev \\\n",
    "        SnowflakeSecretARN=arn:aws:secretsmanager:us-east-1:657082399901:secret:connection_parameters_snowflake_dev \\\n",
    "        SnowflakeAccount=xxxxxx1.us-east-1 \\\n",
    "    --capabilities CAPABILITY_NAMED_IAM\n",
    "    \n",
    "\n",
    "aws cloudformation deploy \\\n",
    "  --template-file 4-glue-workflow-stack.json \\\n",
    "  --stack-name nursing-home-dev-workflow \\\n",
    "  --parameter-overrides \\\n",
    "      EnvironmentType=dev \\\n",
    "      SourceBucket=nh-source-657082399901-dev \\\n",
    "  --capabilities CAPABILITY_NAMED_IAM\n",
    "\n",
    "aws cloudformation deploy \\\n",
    "  --template-file 5-notifications-stack.json \\\n",
    "  --stack-name nursing-home-notifications-stack \\\n",
    "  --parameter-overrides EnvironmentType=dev NotificationEmail=sjjb78@hotmail.com \\\n",
    "  --capabilities CAPABILITY_NAMED_IAM\n",
    "```"
   ]
  },
  {
   "cell_type": "markdown",
   "id": "8618619f-5d9f-4995-a25f-a0ecc8e3dc6d",
   "metadata": {},
   "source": []
  },
  {
   "cell_type": "markdown",
   "id": "54ca7d2a-5b39-49f2-9003-4dfe1a593360",
   "metadata": {},
   "source": [
    "# Final Database Structure (Snowflake-Ready)"
   ]
  },
  {
   "cell_type": "markdown",
   "id": "deedca55-7852-4682-a958-28450730bd3a",
   "metadata": {},
   "source": [
    "We'll use:\n",
    "\n",
    "- **Database**: NURSING_HOME_DEV\n",
    "- **Schemas**:\n",
    "    - SOURCE → Raw loaded and cleaned tables\n",
    "    - MART → Aggregated/analytical tables (Quality, Cost, Facility, Operational, etc.)\n",
    "    - LOOKUP → Lookup/reference tables (e.g., provider)"
   ]
  },
  {
   "cell_type": "markdown",
   "id": "0aeb1898-81ee-457a-b9ac-093183573b29",
   "metadata": {},
   "source": [
    "## 📂 NURSING_HOME_DEV.SOURCE Tables (based on your actual files)"
   ]
  },
  {
   "cell_type": "markdown",
   "id": "1b56fc02-783a-4ccc-b308-02013338b5e1",
   "metadata": {},
   "source": [
    "| Table Name     | Description                                   | Primary Key | Foreign Key Relationships                                                                                                                                     |\n",
    "|----------------|-----------------------------------------------|-------------|-------------------------------------------------------------------------------------------------------------------------------------------------------------------------------------------------------|\n",
    "| PROVIDER_INFO  | Facility-level details                        | ccn         | -                                                                                                                                                                                                     |\n",
    "| HEALTH_CITATION| Survey citations                              | composite: ccn, deficiency_tag, survey_date | ccn → PROVIDER_INFO.ccn<br>deficiency_tag → CITATION_DESCRIPTION.deficiency_tag                                                                                                                      |\n",
    "| CITATION_DESCRIPTION | Tag descriptions                        | deficiency_tag | -                                                                                                                                                                                                     |\n",
    "| SURVEY_SUMMARY | High-level survey summaries                   | survey_summary_id (generated) | ccn                                                                                                                                                                                                   |\n",
    "| PENALTIES      | Penalties and fines per facility              | penalty_id (generated) | ccn                                                                                                                                                                                                   |\n",
    "| STAFFING_METRICS (optional) | Staffing-level data (optional CSV or source) | staffing_id (generated) | ccn                                                                                                                                                                                                   |\n"
   ]
  },
  {
   "cell_type": "markdown",
   "id": "7a200e13-eda4-4b3e-9265-2b5b9651a683",
   "metadata": {},
   "source": [
    "## 📂  NURSING_HOME_DEV.MART Tables (Metric Marts — Analytical Layer)\n",
    "These will be created via **dbt or Snowflake views** from SOURCE layer."
   ]
  },
  {
   "cell_type": "markdown",
   "id": "6204caf4-697e-4048-9e09-5ddeced1389d",
   "metadata": {},
   "source": [
    "| Table | Description | Based On |\n",
    "|-------|-------------|----------|\n",
    "| MART.STAFFING | Aggregated staffing metrics | SOURCE.STAFFING_METRICS |\n",
    "| MART.FACILITY | Facility metrics (occupancy, bed usage) | SOURCE.PROVIDER_INFO, SOURCE.SURVEY_SUMMARY |\n",
    "| MART.QUALITY | Quality & satisfaction KPIs | SOURCE.HEALTH_CITATION, SOURCE.CITATION_DESCRIPTION, external survey |\n",
    "| MART.COST | Cost analysis (payroll etc.) | SOURCE.STAFFING_METRICS, SOURCE.PENALTIES |\n",
    "| MART.OPERATIONAL | Ops metrics (shifts, staffing load) | SOURCE.STAFFING_METRICS, SOURCE.SURVEY_SUMMARY |\n"
   ]
  },
  {
   "cell_type": "code",
   "execution_count": null,
   "id": "9fe29419-a265-430c-8f36-daa8057b4642",
   "metadata": {},
   "outputs": [],
   "source": [
    "## 📐 Schema Design Example for STAFFING_METRICS (Optional File or Table)"
   ]
  },
  {
   "cell_type": "code",
   "execution_count": null,
   "id": "7e037edb-f18f-494b-b560-e02833338411",
   "metadata": {},
   "outputs": [],
   "source": []
  },
  {
   "cell_type": "code",
   "execution_count": null,
   "id": "c90f17c9-53b6-4f52-86a6-e65b88c7ec7d",
   "metadata": {},
   "outputs": [],
   "source": []
  },
  {
   "cell_type": "code",
   "execution_count": null,
   "id": "b54a2e41-87c4-49fd-b171-45a7fa5456b1",
   "metadata": {},
   "outputs": [],
   "source": []
  },
  {
   "cell_type": "raw",
   "id": "0986ad7a-b530-4a09-a30b-edd7ac978bdd",
   "metadata": {},
   "source": []
  },
  {
   "cell_type": "raw",
   "id": "11a6305d-f46f-4df6-adda-8caea80e16a6",
   "metadata": {},
   "source": []
  },
  {
   "cell_type": "raw",
   "id": "fed3d20b-18ee-473a-adf4-2f62b37849bc",
   "metadata": {},
   "source": []
  },
  {
   "cell_type": "raw",
   "id": "6f03c624-bc16-4194-ae0e-52ca417f4e72",
   "metadata": {},
   "source": []
  },
  {
   "cell_type": "raw",
   "id": "953f91ea-c1a2-48c8-8fe7-5b092deb7c99",
   "metadata": {},
   "source": []
  }
 ],
 "metadata": {
  "kernelspec": {
   "display_name": "Python (de_env)",
   "language": "python",
   "name": "de_env"
  },
  "language_info": {
   "codemirror_mode": {
    "name": "ipython",
    "version": 3
   },
   "file_extension": ".py",
   "mimetype": "text/x-python",
   "name": "python",
   "nbconvert_exporter": "python",
   "pygments_lexer": "ipython3",
   "version": "3.11.10"
  }
 },
 "nbformat": 4,
 "nbformat_minor": 5
}
